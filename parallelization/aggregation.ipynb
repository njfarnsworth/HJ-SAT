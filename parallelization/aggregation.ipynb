{
 "cells": [
  {
   "cell_type": "code",
   "execution_count": 2,
   "id": "0b5bbeea-9d60-4852-85ec-c4e951169e8f",
   "metadata": {},
   "outputs": [
    {
     "name": "stdout",
     "output_type": "stream",
     "text": [
      "Generating combinatorial lines and boolean literals for 2 = HJ(3,2)\n",
      "Chunk 0 has 1 lines:\n",
      "[[1, 1], [1, 2], [1, 3]]\n",
      "\n",
      "\n",
      "Chunk 1 has 2 lines\n",
      "[[2, 1], [2, 2], [2, 3]]\n",
      "[[3, 1], [3, 2], [3, 3]]\n",
      "\n",
      "\n",
      "Chunk 2 has 2 lines\n",
      "[[1, 1], [2, 1], [3, 1]]\n",
      "[[1, 2], [2, 2], [3, 2]]\n",
      "\n",
      "\n",
      "Chunk 3 has 2 lines\n",
      "[[1, 3], [2, 3], [3, 3]]\n",
      "[[1, 1], [2, 2], [3, 3]]\n",
      "\n",
      "\n",
      "\n",
      "Chunk 0: Performing symmetry blocking on x_1\n",
      "Chunk 0 literals before map:  {1, 2, 3}\n",
      "Chunk 0 literals after map:  {1: 1, 2: 2, 3: 3}\n",
      "<class 'set'>\n",
      "<class 'set'>\n",
      "<class 'set'>\n",
      "Found 3 solutions in chunk 0\n",
      "\n",
      "\n",
      "Chunk 1 literals before map:  {4, 5, 6, 7, 8, 9}\n",
      "Chunk 1 literals after map:  {4: 1, 5: 2, 6: 3, 7: 4, 8: 5, 9: 6}\n",
      "Found 36 solutions in chunk 1\n",
      "\n",
      "\n",
      "Chunk 2: Performing symmetry blocking on x_1\n",
      "Chunk 2 literals before map:  {1, 2, 4, 5, 7, 8}\n",
      "Chunk 2 literals after map:  {1: 1, 2: 2, 4: 3, 5: 4, 7: 5, 8: 6}\n",
      "Found 18 solutions in chunk 2\n",
      "\n",
      "\n",
      "Chunk 3: Performing symmetry blocking on x_1\n",
      "Chunk 3 literals before map:  {1, 3, 5, 6, 9}\n",
      "Chunk 3 literals after map:  {1: 1, 3: 2, 5: 3, 6: 4, 9: 5}\n",
      "Found 9 solutions in chunk 3\n",
      "\n",
      "\n"
     ]
    }
   ],
   "source": [
    "# Runs the four mini-solvers \n",
    "import itertools\n",
    "from chunk_0 import chunk0_solutions, literals_in_chunk0\n",
    "from chunk_1 import chunk1_solutions, literals_in_chunk1\n",
    "from chunk_2 import chunk2_solutions, literals_in_chunk2\n",
    "from chunk_3 import chunk3_solutions, literals_in_chunk3"
   ]
  },
  {
   "cell_type": "code",
   "execution_count": 3,
   "id": "d03f508a-c857-4c99-bcca-311008cbd810",
   "metadata": {},
   "outputs": [
    {
     "name": "stdout",
     "output_type": "stream",
     "text": [
      "Chunk 0 solutions: \n",
      "{1, -3, -2}\n",
      "{1, 3, -2}\n",
      "{1, 2, -3}\n",
      "Chunk 1 solutions: \n",
      "{4, 7, -9, -8, -6, -5}\n",
      "{4, 5, 7, -9, -8, -6}\n",
      "{4, 5, 7, 8, -9, -6}\n",
      "{4, 5, 7, 9, -8, -6}\n",
      "{5, 7, 9, -8, -6, -4}\n",
      "{4, 7, 9, -8, -6, -5}\n",
      "{4, 9, -8, -7, -6, -5}\n",
      "{4, 5, 9, -8, -7, -6}\n",
      "{5, 9, -8, -7, -6, -4}\n",
      "{5, 6, 9, -8, -7, -4}\n",
      "{5, 6, 8, 9, -7, -4}\n",
      "{5, 8, 9, -7, -6, -4}\n",
      "{6, 8, 9, -7, -5, -4}\n",
      "{6, 8, -9, -7, -5, -4}\n",
      "{5, 6, 8, -9, -7, -4}\n",
      "{5, 8, -9, -7, -6, -4}\n",
      "{6, 9, -8, -7, -5, -4}\n",
      "{6, 7, -9, -8, -5, -4}\n",
      "{6, 7, 9, -8, -5, -4}\n",
      "{5, 6, 7, 9, -8, -4}\n",
      "{5, 6, 7, -9, -8, -4}\n",
      "{5, 6, 7, 8, -9, -4}\n",
      "{6, 7, 8, -9, -5, -4}\n",
      "{4, 6, 7, 8, -9, -5}\n",
      "{4, 6, 8, -9, -7, -5}\n",
      "{4, 6, 8, 9, -7, -5}\n",
      "{4, 8, 9, -7, -6, -5}\n",
      "{4, 8, -9, -7, -6, -5}\n",
      "{4, 5, 8, -9, -7, -6}\n",
      "{4, 5, 8, 9, -7, -6}\n",
      "{4, 7, 8, -9, -6, -5}\n",
      "{5, 7, 8, -9, -6, -4}\n",
      "{5, 7, -9, -8, -6, -4}\n",
      "{4, 6, 9, -8, -7, -5}\n",
      "{4, 6, 7, -9, -8, -5}\n",
      "{4, 6, 7, 9, -8, -5}\n",
      "\n",
      "\n",
      "Chunk 2 solutions: \n",
      "[{1, 2, -8, -7, -5, -4}, {1, 2, 5, -8, -7, -4}, {1, 2, 5, 7, -8, -4}, {1, 2, 7, -8, -5, -4}, {1, 5, 7, -8, -4, -2}, {1, 5, -8, -7, -4, -2}, {1, 5, 8, -7, -4, -2}, {1, 2, 8, -7, -5, -4}, {1, 2, 4, 8, -7, -5}, {1, 2, 4, -8, -7, -5}, {1, 2, 4, 5, -8, -7}, {1, 4, 5, -8, -7, -2}, {1, 4, 5, 8, -7, -2}, {1, 4, 8, -7, -5, -2}, {1, 2, 7, 8, -5, -4}, {1, 7, 8, -5, -4, -2}, {1, 5, 7, 8, -4, -2}, {1, 8, -7, -5, -4, -2}]\n",
      "\n",
      "\n",
      "Chunk 3 solutions: \n",
      "[{1, 3, -9, -6, -5}, {1, 3, 6, -9, -5}, {1, 3, 9, -6, -5}, {1, 6, 9, -5, -3}, {1, 6, -9, -5, -3}, {1, 5, 6, -9, -3}, {1, 3, 5, -9, -6}, {1, 9, -6, -5, -3}, {1, 3, 5, 6, -9}]\n"
     ]
    }
   ],
   "source": [
    "print(\"Chunk 0 solutions: \")\n",
    "for sol in chunk0_solutions:\n",
    "    print(sol)\n",
    "\n",
    "print(\"Chunk 1 solutions: \")\n",
    "for sol in chunk1_solutions:\n",
    "    print(sol)\n",
    "\n",
    "print(\"\\n\\nChunk 2 solutions: \")\n",
    "print(chunk2_solutions)\n",
    "\n",
    "print(\"\\n\\nChunk 3 solutions: \")\n",
    "print(chunk3_solutions)\n",
    "\n",
    "solution_size = len(chunk0_solutions) + len(chunk1_solutions) + len(chunk2_solutions) + len(chunk3_solutions)"
   ]
  },
  {
   "cell_type": "code",
   "execution_count": 4,
   "id": "12a66a79-cc8c-4cde-98bb-ed3beec4524b",
   "metadata": {},
   "outputs": [
    {
     "name": "stdout",
     "output_type": "stream",
     "text": [
      "<class 'list'>\n"
     ]
    }
   ],
   "source": [
    "chunk0_solutions = [tuple(sol) for sol in chunk0_solutions]\n",
    "chunk1_solutions = [tuple(sol) for sol in chunk1_solutions]\n",
    "chunk2_solutions = [tuple(sol) for sol in chunk2_solutions]\n",
    "chunk3_solutions = [tuple(sol) for sol in chunk3_solutions]\n",
    "\n",
    "print(type(chunk0_solutions))"
   ]
  },
  {
   "cell_type": "code",
   "execution_count": 5,
   "id": "6de7d7a8-5f5f-4c82-b9fa-15319b693620",
   "metadata": {},
   "outputs": [],
   "source": [
    "# some data \n",
    "\n",
    "literals_dict = {0: literals_in_chunk0,\n",
    "                 1: literals_in_chunk1,\n",
    "                 2: literals_in_chunk2,\n",
    "                 3: literals_in_chunk3\n",
    "                 }\n",
    "\n",
    "solution_dict = {\n",
    "    0: chunk0_solutions,\n",
    "    1: chunk1_solutions,\n",
    "    2: chunk2_solutions,\n",
    "    3: chunk3_solutions\n",
    "}"
   ]
  },
  {
   "cell_type": "code",
   "execution_count": 6,
   "id": "4cc529e8-4875-46ec-b4f4-4518bc64b6ab",
   "metadata": {},
   "outputs": [
    {
     "name": "stdout",
     "output_type": "stream",
     "text": [
      "<class 'tuple'>\n"
     ]
    }
   ],
   "source": [
    "print(type(chunk0_solutions[0]))"
   ]
  },
  {
   "cell_type": "code",
   "execution_count": 7,
   "id": "da7faa93-4d6f-401c-8981-166a5d50fd32",
   "metadata": {},
   "outputs": [],
   "source": [
    "# Takes the intersection of literals from tuples of solution chunks and sorts so that max is first \n",
    "\n",
    "intersection_list = []\n",
    "\n",
    "for (i, set1), (j, set2) in itertools.combinations(literals_dict.items(), 2):\n",
    "    intersection_size = len(set1 & set2)\n",
    "    intersection_list.append(((i, j), set1, set2, (set1 & set2), intersection_size))\n",
    "\n",
    "# sort by intersection size, largest first\n",
    "intersection_list.sort(key=lambda x: x[4], reverse=True)"
   ]
  },
  {
   "cell_type": "code",
   "execution_count": 8,
   "id": "93a515d4-df0b-4ae3-a170-416a1537a73f",
   "metadata": {},
   "outputs": [],
   "source": [
    "def compatible(set1, set2):\n",
    "    # check if any element in set1 has its negation in set2\n",
    "    return not any(-x in set2 for x in set1)\n",
    "\n"
   ]
  },
  {
   "cell_type": "markdown",
   "id": "d61ceb58-194e-4943-a656-a37e14f079a4",
   "metadata": {},
   "source": [
    "# Second approach here "
   ]
  },
  {
   "cell_type": "code",
   "execution_count": 13,
   "id": "d871778b-a830-4d63-a826-4a8284bc4edc",
   "metadata": {},
   "outputs": [
    {
     "name": "stdout",
     "output_type": "stream",
     "text": [
      "There are 108 valid solutions using chunks 0 and 1\n",
      "There are 63 valid solutions using chunks 0, 1, and 2\n",
      "There are 33 valid solutions using chunks 0, 1, 2, and 3\n"
     ]
    }
   ],
   "source": [
    "chunk01_solutions = set()\n",
    "\n",
    "for sol0 in chunk0_solutions:\n",
    "    for sol1 in chunk1_solutions:\n",
    "        if compatible(sol0,sol1):\n",
    "            chunk01_solutions.add(tuple(sorted(set(sol0) | set(sol1), key=abs)))\n",
    "\n",
    "print(f\"There are {len(chunk01_solutions)} valid solutions using chunks 0 and 1\")\n",
    "            \n",
    "chunk012_solutions = set()\n",
    "\n",
    "for sol in chunk01_solutions:\n",
    "    for sol2 in chunk2_solutions:\n",
    "        if compatible(sol, sol2):\n",
    "            chunk012_solutions.add(tuple(sorted(set(sol) | set(sol2), key=abs)))\n",
    "\n",
    "all_solutions = set()\n",
    "for sol in chunk012_solutions:\n",
    "    for sol3 in chunk3_solutions:\n",
    "        if compatible(sol, sol3):\n",
    "            all_solutions.add(tuple(sorted(set(sol) | set(sol3), key=abs)))\n",
    "\n",
    "print(f\"There are {len(chunk012_solutions)} valid solutions using chunks 0, 1, and 2\")\n",
    "\n",
    "print(f\"There are {len(all_solutions)} valid solutions using chunks 0, 1, 2, and 3\")"
   ]
  },
  {
   "cell_type": "code",
   "execution_count": 16,
   "id": "b647f75a-244d-4f60-b731-4d3f2ab99bf0",
   "metadata": {},
   "outputs": [
    {
     "name": "stdout",
     "output_type": "stream",
     "text": [
      "PySAT and native parallelization technique agree on 33 of 33 solutions\n"
     ]
    }
   ],
   "source": [
    "py_sat_sols = [[1, -2, 3, -4, 5, -6, 7, -8, -9],\n",
    "[1, -2, 3, -4, 5, 6, 7, -8, -9],\n",
    "[1, -2, 3, -4, 5, 6, 7, 8, -9],\n",
    "[1, -2, 3, -4, -5, 6, 7, 8, -9],\n",
    "[1, -2, -3, -4, -5, 6, 7, 8, -9],\n",
    "[1, 2, -3, -4, -5, 6, 7, 8, -9],\n",
    "[1, 2, -3, -4, -5, 6, -7, 8, -9],\n",
    "[1, 2, -3, -4, -5, 6, -7, 8, 9],\n",
    "[1, 2, -3, 4, -5, 6, -7, 8, 9],\n",
    "[1, -2, -3, 4, -5, 6, -7, 8, 9],\n",
    "[1, -2, -3, 4, -5, 6, -7, 8, -9],\n",
    "[1, 2, -3, 4, -5, 6, -7, 8, -9],\n",
    "[1, 2, -3, 4, -5, -6, -7, 8, 9],\n",
    "[1, -2, -3, 4, -5, -6, -7, 8, 9],\n",
    "[1, -2, -3, -4, -5, 6, -7, 8, 9],\n",
    "[1, -2, -3, -4, -5, 6, -7, 8, -9],\n",
    "[1, -2, 3, -4, -5, 6, -7, 8, -9],\n",
    "[1, -2, 3, 4, -5, 6, -7, 8, -9],\n",
    "[1, -2, 3, 4, -5, -6, -7, 8, -9],\n",
    "[1, -2, 3, -4, 5, -6, -7, 8, -9],\n",
    "[1, -2, 3, 4, 5, -6, -7, 8, -9],\n",
    "[1, -2, 3, -4, 5, 6, -7, 8, -9],\n",
    "[1, -2, 3, 4, -5, -6, -7, 8, 9],\n",
    "[1, -2, 3, -4, 5, -6, 7, 8, -9],\n",
    "[1, -2, -3, -4, 5, 6, 7, 8, -9],\n",
    "[1, -2, -3, -4, 5, 6, -7, 8, -9],\n",
    "[1, -2, -3, -4, 5, 6, 7, -8, -9],\n",
    "[1, 2, -3, -4, 5, 6, 7, -8, -9],\n",
    "[1, 2, -3, -4, -5, 6, 7, -8, -9],\n",
    "[1, 2, -3, -4, -5, 6, 7, -8, 9],\n",
    "[1, 2, -3, -4, -5, 6, -7, -8, 9],\n",
    "[1, 2, -3, 4, -5, 6, -7, -8, 9],\n",
    "[1, 2, -3, 4, -5, -6, -7, -8, 9]]\n",
    "\n",
    "py_sat_sols = [tuple(sol) for sol in py_sat_sols]\n",
    "\n",
    "overlap_count = 0\n",
    "\n",
    "for sol in all_solutions:\n",
    "    if sol in py_sat_sols:\n",
    "        overlap_count += 1\n",
    "print(f\"PySAT and native parallelization technique agree on {overlap_count} of 33 solutions\")"
   ]
  },
  {
   "cell_type": "markdown",
   "id": "5064359d-b49d-4cb4-b796-4fc55047a20f",
   "metadata": {},
   "source": [
    "# This was my first approach and it did not work"
   ]
  },
  {
   "cell_type": "code",
   "execution_count": null,
   "id": "769f8b64-280e-437a-afea-2a8b8c65febc",
   "metadata": {},
   "outputs": [],
   "source": [
    "all_compatible_solutions = set()\n",
    "\n",
    "for sets in intersection_list:\n",
    "    fixed_sols = solution_dict[sets[0][0]] # Fix whichever set is first\n",
    "    variable_sols = solution_dict[sets[0][1]] # Iterate through all combos for the second list \n",
    "    print(f\"Looking at intersection of chunk {sets[0][0]} and {sets[0][1]}\")\n",
    "    print(f\"{len(fixed_sols)} in chunk {sets[0][0]} and {len(variable_sols)} in chunk {sets[0][1]}\")\n",
    "    for fsol in fixed_sols:\n",
    "        for vsol in variable_sols:\n",
    "            if compatible(fsol, vsol):\n",
    "                all_compatible_solutions.add(tuple(set(fsol) | set(vsol)))\n",
    "\n",
    "print(f\"Generated {len(all_compatible_solutions)} compatible literal strings using {solution_size} solutions\")\n",
    "            "
   ]
  },
  {
   "cell_type": "code",
   "execution_count": null,
   "id": "91b0eafa-5b95-4a86-8307-18119f607071",
   "metadata": {},
   "outputs": [],
   "source": [
    "def compatibility(solution, solution_set):\n",
    "    solutions = set()\n",
    "    for sol in solution_set:\n",
    "        if compatible(solution, sol):\n",
    "            solutions.add(tuple(set(solution) | set(sol)))\n",
    "    return solutions"
   ]
  },
  {
   "cell_type": "code",
   "execution_count": null,
   "id": "57cc7607-73fe-431a-93e9-603eff651f6a",
   "metadata": {},
   "outputs": [],
   "source": [
    "final_solutions = set()\n",
    "remaining_solutions = set(all_compatible_solutions)  # convert to set if you want uniqueness\n",
    "ct = 0\n",
    "while remaining_solutions and ct < 20:\n",
    "    ct += 1\n",
    "    new_remaining = set()\n",
    "    for sol in remaining_solutions:\n",
    "        if len(sol) == 9:\n",
    "            sorted_sol = tuple(sorted(sol, key=abs))\n",
    "            final_solutions.add(sorted_sol)\n",
    "        else:\n",
    "            # Add any new compatible solutions\n",
    "            new_remaining.update(compatibility(sol, remaining_solutions))\n",
    "    remaining_solutions = new_remaining  # Only process the newly generated ones\n"
   ]
  },
  {
   "cell_type": "code",
   "execution_count": 10,
   "id": "b029350f-d092-413d-8db1-56689732484f",
   "metadata": {},
   "outputs": [
    {
     "ename": "NameError",
     "evalue": "name 'final_solutions' is not defined",
     "output_type": "error",
     "traceback": [
      "\u001b[0;31m---------------------------------------------------------------------------\u001b[0m",
      "\u001b[0;31mNameError\u001b[0m                                 Traceback (most recent call last)",
      "Cell \u001b[0;32mIn[10], line 1\u001b[0m\n\u001b[0;32m----> 1\u001b[0m \u001b[38;5;28mprint\u001b[39m(\u001b[38;5;124mf\u001b[39m\u001b[38;5;124m\"\u001b[39m\u001b[38;5;124mIn total, there are \u001b[39m\u001b[38;5;132;01m{\u001b[39;00m\u001b[38;5;28mlen\u001b[39m(\u001b[43mfinal_solutions\u001b[49m)\u001b[38;5;132;01m}\u001b[39;00m\u001b[38;5;124m solutions!\u001b[39m\u001b[38;5;124m\"\u001b[39m)\n\u001b[1;32m      2\u001b[0m \u001b[38;5;28mprint\u001b[39m(\u001b[38;5;124m\"\u001b[39m\u001b[38;5;124mHere they are!\u001b[39m\u001b[38;5;124m\"\u001b[39m)\n\u001b[1;32m      3\u001b[0m \u001b[38;5;28;01mfor\u001b[39;00m sol \u001b[38;5;129;01min\u001b[39;00m final_solutions:\n",
      "\u001b[0;31mNameError\u001b[0m: name 'final_solutions' is not defined"
     ]
    }
   ],
   "source": [
    "print(f\"In total, there are {len(final_solutions)} solutions!\")\n",
    "print(\"Here they are!\")\n",
    "for sol in final_solutions:\n",
    "    print(sol)"
   ]
  },
  {
   "cell_type": "code",
   "execution_count": null,
   "id": "7974842b-e3c1-45fe-83b5-126894cfd0a6",
   "metadata": {},
   "outputs": [],
   "source": []
  },
  {
   "cell_type": "code",
   "execution_count": null,
   "id": "fc111fac-2769-41fa-87d9-814b4d0750ae",
   "metadata": {},
   "outputs": [],
   "source": []
  },
  {
   "cell_type": "code",
   "execution_count": null,
   "id": "021f3b24-9451-4cad-a113-f840d5c65543",
   "metadata": {},
   "outputs": [],
   "source": []
  }
 ],
 "metadata": {
  "kernelspec": {
   "display_name": "Python 3 (ipykernel)",
   "language": "python",
   "name": "python3"
  },
  "language_info": {
   "codemirror_mode": {
    "name": "ipython",
    "version": 3
   },
   "file_extension": ".py",
   "mimetype": "text/x-python",
   "name": "python",
   "nbconvert_exporter": "python",
   "pygments_lexer": "ipython3",
   "version": "3.10.18"
  }
 },
 "nbformat": 4,
 "nbformat_minor": 5
}
