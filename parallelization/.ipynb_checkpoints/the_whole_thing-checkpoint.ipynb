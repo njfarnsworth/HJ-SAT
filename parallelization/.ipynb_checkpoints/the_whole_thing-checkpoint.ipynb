{
 "cells": [
  {
   "cell_type": "code",
   "execution_count": 3,
   "id": "f00a092a-9421-4fcc-8595-e934551f9bb6",
   "metadata": {},
   "outputs": [],
   "source": [
    "from itertools import product\n",
    "from sympy import symbols\n",
    "import numpy as np\n",
    "import time \n",
    "from pysat.solvers import Solver\n",
    "import random\n",
    "from pysat.solvers import Glucose3"
   ]
  },
  {
   "cell_type": "code",
   "execution_count": 22,
   "id": "55870364-7312-4a2e-9f38-1d1f82134bb1",
   "metadata": {},
   "outputs": [],
   "source": [
    "# FUNCTIONS\n",
    "def combinatorial_line(word, alphabet):\n",
    "    lines = []\n",
    "    for a in alphabet:\n",
    "        new_word = list(a if val == x else val for val in word)  # tuple instead of list\n",
    "        lines.append(new_word)\n",
    "    return lines\n",
    "\n",
    "def create_var_map(tuples):\n",
    "    \"\"\"\n",
    "    Input: list of tuples (each tuple can have arbitrary length)\n",
    "    Output: dictionary mapping each tuple -> unique integer literal\n",
    "    \"\"\"\n",
    "    return {t: i+1 for i, t in enumerate(tuples)}\n",
    "\n",
    "def tuple_to_litmap(cl, map, lit_map):\n",
    "    \"\"\"\n",
    "    Map a tuple -> var_map ID -> lit_map value\n",
    "    \"\"\"\n",
    "    literals = [map[tuple(c)] for c in cl]\n",
    "    literals = [lit_map[l] for l in literals]\n",
    "    return literals\n",
    "\n",
    "\n",
    "def split_into_chunks(lst, num_chunks):\n",
    "    n = len(lst)\n",
    "    chunk_sizes = [(n + i) // num_chunks for i in range(num_chunks)]\n",
    "    chunks = []\n",
    "    start = 0\n",
    "    for size in chunk_sizes:\n",
    "        chunks.append(lst[start:start + size])\n",
    "        start += size\n",
    "    return chunks\n",
    "\n",
    "def compatible(set1, set2):\n",
    "    # check if any element in set1 has its negation in set2\n",
    "    return not any(-x in set2 for x in set1)\n",
    "\n",
    "def multi_compatible(list_of_lists):\n",
    "    sets = [set(lst) for lst in list_of_lists]  # convert to sets\n",
    "    for i in range(len(sets)):\n",
    "        for j in range(i + 1, len(sets)):\n",
    "            if any(-x in sets[j] for x in sets[i]):\n",
    "                return False  # incompatible\n",
    "    union_set = set().union(*sets)\n",
    "    return union_set\n",
    "\n",
    "def split_into_random_chunks(lst, num_chunks):\n",
    "    # Shuffle the list first\n",
    "    shuffled = lst[:]\n",
    "    random.shuffle(shuffled)\n",
    "    \n",
    "    n = len(shuffled)\n",
    "    chunk_sizes = [(n + i) // num_chunks for i in range(num_chunks)]\n",
    "    \n",
    "    chunks = []\n",
    "    start = 0\n",
    "    for size in chunk_sizes:\n",
    "        chunks.append(shuffled[start:start + size])\n",
    "        start += size\n",
    "    return chunks"
   ]
  },
  {
   "cell_type": "code",
   "execution_count": 26,
   "id": "cd1512a7-add4-427d-b15c-8fb932225808",
   "metadata": {},
   "outputs": [],
   "source": [
    "# SETTING VARIABLES \n",
    "x = symbols('x')\n",
    "m = 2 # m is the potential Hales-Jewett number \n",
    "n = 3 # n is the length of the alphabet\n",
    "c = 2 # don't actually use this, just a reminder that we set c = 2\n",
    "# so, we're looking at HJ(n,2)\n",
    "ch_num = 4"
   ]
  },
  {
   "cell_type": "code",
   "execution_count": 27,
   "id": "5679e21b-0e4f-4535-a30d-c86231b9c42a",
   "metadata": {},
   "outputs": [
    {
     "name": "stdout",
     "output_type": "stream",
     "text": [
      "Generating combinatorial lines and boolean literals for 2 = HJ(3,2)\n"
     ]
    }
   ],
   "source": [
    "print(f\"Generating combinatorial lines and boolean literals for {m} = HJ({n},2)\")\n",
    "\n",
    "alphabet = list(range(1, n+1))\n",
    "configs = []\n",
    "variable_words = []\n",
    "cells = list(product(alphabet, repeat=m))\n",
    "\n",
    "for mask in product([0, 1], repeat=m):\n",
    "    if sum(mask) == 0:  # skip all-blank\n",
    "        continue\n",
    "    config = [x if bit else 0 for bit in mask]\n",
    "    configs.append(config)\n",
    "\n",
    "for c in configs:\n",
    "    zero_positions = [i for i, val in enumerate(c) if val == 0]\n",
    "    k = len(zero_positions)\n",
    "        \n",
    "    for fill in product(alphabet, repeat=k):\n",
    "        word = list(c)  \n",
    "        for pos, val in zip(zero_positions, fill):\n",
    "            word[pos] = val\n",
    "        variable_words.append(word)  \n",
    "\n",
    "combinatorial_lines = [] # create the combinatorial lines\n",
    "for vw in variable_words:\n",
    "    combinatorial_lines.append(combinatorial_line(vw, alphabet))"
   ]
  },
  {
   "cell_type": "code",
   "execution_count": 28,
   "id": "0442850d-828f-46c4-8fdd-a032b1d88cb7",
   "metadata": {},
   "outputs": [],
   "source": [
    "# MAPPING FROM LINES TO BOOLEANS\n",
    "map = create_var_map(cells) # define the map from line to boolean\n",
    "\n",
    "for cl in combinatorial_lines: # for each combinatorial line, we are going to generate 2 clauses\n",
    "    literals = [map[tuple(c)] for c in cl]"
   ]
  },
  {
   "cell_type": "code",
   "execution_count": 29,
   "id": "131a47af-e79b-4c16-acde-9cb718652301",
   "metadata": {},
   "outputs": [
    {
     "name": "stdout",
     "output_type": "stream",
     "text": [
      "Chunk 0 has 1 lines\n",
      "Chunk 1 has 2 lines\n",
      "Chunk 2 has 2 lines\n",
      "Chunk 3 has 2 lines\n"
     ]
    }
   ],
   "source": [
    "chunk_list = []\n",
    "\n",
    "combinatorial_chunks = split_into_chunks(combinatorial_lines, ch_num)\n",
    "#combinatorial_chunks = split_into_random_chunks(combinatorial_lines, ch_num)\n",
    "\n",
    "for i, chunk in enumerate(combinatorial_chunks):\n",
    "    chunk_list.append(chunk)          # store in a list for iteration\n",
    "    print(f\"Chunk {i} has {len(chunk)} lines\")"
   ]
  },
  {
   "cell_type": "code",
   "execution_count": 30,
   "id": "2ccb9559-d28b-40ff-87fe-ffc5a18c7d03",
   "metadata": {},
   "outputs": [],
   "source": [
    "\n",
    "\n",
    "def solve_chunk(chunk):\n",
    "    \"\"\"\n",
    "    Solve a chunk using a SAT solver with optional symmetry blocking on x1.\n",
    "    \n",
    "    Args:\n",
    "        chunk (list of lists/tuples): The chunk of constraints to solve.\n",
    "        map (dict): Mapping from tuple elements to integer literals.\n",
    "        tuple_to_litmap (func): Function to convert tuples to literal mapping.\n",
    "        symmetry_block (bool, optional): Whether to symmetry block x1 if present.\n",
    "        \n",
    "    Returns:\n",
    "        solutions (list of sets): List of solutions in terms of original tuples.\n",
    "        solution_count (int): Number of solutions found.\n",
    "        lit_map (dict): Mapping from original literals to solver literals.\n",
    "    \"\"\"\n",
    "    solver = Solver(name='glucose4')\n",
    "    literals_in_chunk = set()\n",
    "    x1_in_lits = False\n",
    "\n",
    "    # Collect literals\n",
    "    for cl in chunk:\n",
    "        literals = [map[tuple(c)] for c in cl]\n",
    "        literals_in_chunk.update(literals)\n",
    "\n",
    "    # Generate literal maps\n",
    "    lit_map = {orig: i+1 for i, orig in enumerate(literals_in_chunk)}\n",
    "    rev_map = {v: k for k, v in lit_map.items()}\n",
    "\n",
    "    if 1 in literals_in_chunk:\n",
    "        x1_in_lits = True\n",
    "        #print(\"Performing symmetry blocking on x_1\")\n",
    "\n",
    "    #print(\"Literals before mapping:\", literals_in_chunk)\n",
    "    #print(\"Literals after mapping:\", lit_map)\n",
    "\n",
    "    # Add clauses\n",
    "    for cl in chunk:\n",
    "        literals = tuple_to_litmap(cl, map, lit_map)\n",
    "        solver.add_clause(literals)             # all-blue check\n",
    "        solver.add_clause([-lit for lit in literals])  # all-red check\n",
    "\n",
    "    if x1_in_lits:\n",
    "        solver.add_clause([1])\n",
    "\n",
    "    # Enumerate solutions\n",
    "    solutions = []\n",
    "    for model in solver.enum_models():\n",
    "        mapped_model = set(\n",
    "            rev_map[abs(lit)] if lit > 0 else -rev_map[abs(lit)]\n",
    "            for lit in model if abs(lit) in rev_map\n",
    "        )\n",
    "        solutions.append(mapped_model)\n",
    "\n",
    "    solution_count = len(solutions)\n",
    "    print(f\"Found {solution_count} solutions in this chunk.\")\n",
    "    return solutions, solution_count, lit_map\n",
    "\n"
   ]
  },
  {
   "cell_type": "markdown",
   "id": "5448d35b-3ee4-4034-84d1-39ef33b2a5c1",
   "metadata": {},
   "source": [
    "# Trying a quick lower bound method here"
   ]
  },
  {
   "cell_type": "code",
   "execution_count": 31,
   "id": "db9e2b84-ff39-4916-9a2e-caa66eae883c",
   "metadata": {},
   "outputs": [],
   "source": [
    "\n",
    "def one_solve(chunk, blocks):\n",
    "    \"\"\"\n",
    "    Solve a chunk using a SAT solver with optional symmetry blocking on x1.\n",
    "    \n",
    "    Args:\n",
    "        chunk (list of lists/tuples): The chunk of constraints to solve.\n",
    "        map (dict): Mapping from tuple elements to integer literals.\n",
    "        tuple_to_litmap (func): Function to convert tuples to literal mapping.\n",
    "        symmetry_block (bool, optional): Whether to symmetry block x1 if present.\n",
    "        \n",
    "    Returns:\n",
    "        solutions (list of sets): List of solutions in terms of original tuples.\n",
    "        solution_count (int): Number of solutions found.\n",
    "        lit_map (dict): Mapping from original literals to solver literals.\n",
    "    \"\"\"\n",
    "    solver = Solver(name='glucose4')\n",
    "    literals_in_chunk = set()\n",
    "    x1_in_lits = False\n",
    "\n",
    "    # Collect literals\n",
    "    for cl in chunk:\n",
    "        literals = [map[tuple(c)] for c in cl]\n",
    "        literals_in_chunk.update(literals)\n",
    "\n",
    "    # Generate literal maps\n",
    "    lit_map = {orig: i+1 for i, orig in enumerate(literals_in_chunk)}\n",
    "    rev_map = {v: k for k, v in lit_map.items()}\n",
    "\n",
    "    if 1 in literals_in_chunk:\n",
    "        x1_in_lits = True\n",
    "        #print(\"Performing symmetry blocking on x_1\")\n",
    "\n",
    "    #print(\"Literals before mapping:\", literals_in_chunk)\n",
    "    #print(\"Literals after mapping:\", lit_map)\n",
    "\n",
    "    # Add clauses\n",
    "    for cl in chunk:\n",
    "        literals = tuple_to_litmap(cl, map, lit_map)\n",
    "        solver.add_clause(literals)             # all-blue check\n",
    "        solver.add_clause([-lit for lit in literals])  # all-red check\n",
    "\n",
    "    if x1_in_lits:\n",
    "        solver.add_clause([1])\n",
    "\n",
    "    for b in blocks:\n",
    "        solver.add_clause(b)\n",
    "\n",
    "    if solver.solve():\n",
    "        model = solver.get_model()\n",
    "        mapped_model = set(\n",
    "        rev_map[abs(lit)] if lit > 0 else -rev_map[abs(lit)]\n",
    "        for lit in model if abs(lit) in rev_map\n",
    "        )\n",
    "        blocks.append([-lit for lit in model])\n",
    "    else:\n",
    "        return -1\n",
    "\n",
    "    return model, blocks"
   ]
  },
  {
   "cell_type": "code",
   "execution_count": 32,
   "id": "035da53a-39a8-4620-add6-f7a0bd97ba88",
   "metadata": {},
   "outputs": [
    {
     "ename": "NameError",
     "evalue": "name 'solution' is not defined",
     "output_type": "error",
     "traceback": [
      "\u001b[0;31m---------------------------------------------------------------------------\u001b[0m",
      "\u001b[0;31mNameError\u001b[0m                                 Traceback (most recent call last)",
      "Cell \u001b[0;32mIn[32], line 6\u001b[0m\n\u001b[1;32m      3\u001b[0m ct \u001b[38;5;241m=\u001b[39m \u001b[38;5;241m0\u001b[39m\n\u001b[1;32m      4\u001b[0m blocks \u001b[38;5;241m=\u001b[39m [[] \u001b[38;5;28;01mfor\u001b[39;00m _ \u001b[38;5;129;01min\u001b[39;00m \u001b[38;5;28mrange\u001b[39m(\u001b[38;5;28mlen\u001b[39m(chunk_list))]\n\u001b[0;32m----> 6\u001b[0m \u001b[38;5;28;01mwhile\u001b[39;00m \u001b[43msolution\u001b[49m \u001b[38;5;241m==\u001b[39m \u001b[38;5;28;01mFalse\u001b[39;00m \u001b[38;5;129;01mand\u001b[39;00m ct \u001b[38;5;241m<\u001b[39m \u001b[38;5;241m10000\u001b[39m:\n\u001b[1;32m      7\u001b[0m     sols \u001b[38;5;241m=\u001b[39m []\n\u001b[1;32m      8\u001b[0m     \u001b[38;5;28;01mif\u001b[39;00m ct \u001b[38;5;241m%\u001b[39m \u001b[38;5;241m1000\u001b[39m \u001b[38;5;241m==\u001b[39m \u001b[38;5;241m0\u001b[39m:\n",
      "\u001b[0;31mNameError\u001b[0m: name 'solution' is not defined"
     ]
    }
   ],
   "source": [
    "start_time = time.time()\n",
    "\n",
    "ct = 0\n",
    "blocks = [[] for _ in range(len(chunk_list))]\n",
    "\n",
    "while solution == False and ct < 10000:\n",
    "    sols = []\n",
    "    if ct % 1000 == 0:\n",
    "        print(f\"Iteration {ct}\")\n",
    "    for i,chunk in enumerate(chunk_list):\n",
    "        solutions, blocks[i] = one_solve(chunk, blocks[i])\n",
    "        if solutions != -1:\n",
    "            sols.append(solutions)    \n",
    "    solution = multi_compatible(sols)\n",
    "    ct += 1\n",
    "\n",
    "end_time = time.time()\n",
    "elapsed_time = end_time - start_time \n",
    "print(f\"Elapsed time: {elapsed_time:.5f} seconds\")  \n",
    "print(f\"Found solution: {solution}\")"
   ]
  },
  {
   "cell_type": "markdown",
   "id": "714d82f3-04c0-42af-8c00-5298419087a9",
   "metadata": {},
   "source": [
    "# End lower bound method"
   ]
  },
  {
   "cell_type": "code",
   "execution_count": 33,
   "id": "3686bd03-0029-4846-a0f1-5650fc925a79",
   "metadata": {},
   "outputs": [
    {
     "name": "stdout",
     "output_type": "stream",
     "text": [
      "Found 3 solutions in this chunk.\n",
      "Found 36 solutions in this chunk.\n",
      "Found 18 solutions in this chunk.\n",
      "Found 9 solutions in this chunk.\n",
      "Elapsed time: 0.01462 seconds\n"
     ]
    }
   ],
   "source": [
    "start_time = time.time()\n",
    "\n",
    "sols_per_chunk = [0 * i for i in range(len(chunk_list))]\n",
    "\n",
    "for i,chunk in enumerate(chunk_list):\n",
    "    solutions, count, lit_map = solve_chunk(chunk)\n",
    "    sols_per_chunk[i] = solutions\n",
    "\n",
    "end_time = time.time()\n",
    "elapsed_time = end_time - start_time\n",
    "print(f\"Elapsed time: {elapsed_time:.5f} seconds\")\n"
   ]
  },
  {
   "cell_type": "code",
   "execution_count": 10,
   "id": "16f07454-1184-46cb-b8ec-b4ac038684b5",
   "metadata": {},
   "outputs": [
    {
     "name": "stdout",
     "output_type": "stream",
     "text": [
      "helo\n"
     ]
    },
    {
     "ename": "KeyboardInterrupt",
     "evalue": "",
     "output_type": "error",
     "traceback": [
      "\u001b[0;31m---------------------------------------------------------------------------\u001b[0m",
      "\u001b[0;31mKeyboardInterrupt\u001b[0m                         Traceback (most recent call last)",
      "Cell \u001b[0;32mIn[10], line 10\u001b[0m\n\u001b[1;32m      8\u001b[0m \u001b[38;5;28;01mfor\u001b[39;00m sol_a \u001b[38;5;129;01min\u001b[39;00m combined_solutions:\n\u001b[1;32m      9\u001b[0m     \u001b[38;5;28;01mfor\u001b[39;00m sol_b \u001b[38;5;129;01min\u001b[39;00m chunk_solutions:\n\u001b[0;32m---> 10\u001b[0m         \u001b[38;5;28;01mif\u001b[39;00m \u001b[43mcompatible\u001b[49m\u001b[43m(\u001b[49m\u001b[43msol_a\u001b[49m\u001b[43m,\u001b[49m\u001b[43m \u001b[49m\u001b[43msol_b\u001b[49m\u001b[43m)\u001b[49m:\n\u001b[1;32m     11\u001b[0m             combined \u001b[38;5;241m=\u001b[39m \u001b[38;5;28mtuple\u001b[39m(\u001b[38;5;28msorted\u001b[39m(\u001b[38;5;28mset\u001b[39m(sol_a) \u001b[38;5;241m|\u001b[39m \u001b[38;5;28mset\u001b[39m(sol_b), key\u001b[38;5;241m=\u001b[39m\u001b[38;5;28mabs\u001b[39m))\n\u001b[1;32m     12\u001b[0m             next_combined\u001b[38;5;241m.\u001b[39madd(combined)\n",
      "Cell \u001b[0;32mIn[3], line 35\u001b[0m, in \u001b[0;36mcompatible\u001b[0;34m(set1, set2)\u001b[0m\n\u001b[1;32m     32\u001b[0m         start \u001b[38;5;241m+\u001b[39m\u001b[38;5;241m=\u001b[39m size\n\u001b[1;32m     33\u001b[0m     \u001b[38;5;28;01mreturn\u001b[39;00m chunks\n\u001b[0;32m---> 35\u001b[0m \u001b[38;5;28;01mdef\u001b[39;00m\u001b[38;5;250m \u001b[39m\u001b[38;5;21mcompatible\u001b[39m(set1, set2):\n\u001b[1;32m     36\u001b[0m     \u001b[38;5;66;03m# check if any element in set1 has its negation in set2\u001b[39;00m\n\u001b[1;32m     37\u001b[0m     \u001b[38;5;28;01mreturn\u001b[39;00m \u001b[38;5;129;01mnot\u001b[39;00m \u001b[38;5;28many\u001b[39m(\u001b[38;5;241m-\u001b[39mx \u001b[38;5;129;01min\u001b[39;00m set2 \u001b[38;5;28;01mfor\u001b[39;00m x \u001b[38;5;129;01min\u001b[39;00m set1)\n\u001b[1;32m     39\u001b[0m \u001b[38;5;28;01mdef\u001b[39;00m\u001b[38;5;250m \u001b[39m\u001b[38;5;21mmulti_compatible\u001b[39m(list_of_lists): \u001b[38;5;66;03m# for the quick lower bound method \u001b[39;00m\n",
      "\u001b[0;31mKeyboardInterrupt\u001b[0m: "
     ]
    }
   ],
   "source": [
    "\n",
    "print(\"helo\")\n",
    "\n",
    "start_time = time.time()\n",
    "ct = 0\n",
    "combined_solutions = set(tuple(sorted(sol, key=abs)) for sol in sols_per_chunk[0])\n",
    "for chunk_solutions in sols_per_chunk[1:]:\n",
    "    next_combined = set()\n",
    "    for sol_a in combined_solutions:\n",
    "        for sol_b in chunk_solutions:\n",
    "            if compatible(sol_a, sol_b):\n",
    "                combined = tuple(sorted(set(sol_a) | set(sol_b), key=abs))\n",
    "                next_combined.add(combined)\n",
    "    combined_solutions = next_combined\n",
    "\n",
    "end_time = time.time()\n",
    "elapsed_time = end_time - start_time\n",
    "print(f\"Elapsed time: {elapsed_time:.5f} seconds\")\n",
    "print(f\"There are {len(combined_solutions)} valid solutions using all subsets of solutions\")"
   ]
  },
  {
   "cell_type": "markdown",
   "id": "4642ded5-ddaa-4e9c-bf7d-1fc7415691aa",
   "metadata": {},
   "source": [
    "### Parallelization of intersection method"
   ]
  },
  {
   "cell_type": "code",
   "execution_count": 15,
   "id": "1d1d39c8-cd9c-429e-9c86-410817dfa0b6",
   "metadata": {},
   "outputs": [
    {
     "name": "stdout",
     "output_type": "stream",
     "text": [
      "<class 'list'>\n",
      "Elapsed time: 0.76148 seconds\n",
      "Satisfiable: True\n"
     ]
    }
   ],
   "source": [
    "start_time = time.time()\n",
    "\n",
    "combined_solutions = False\n",
    "print(type(sols_per_chunk[1]))\n",
    "\n",
    "for sol_combo in product(*sols_per_chunk):\n",
    "    if multi_compatible(sol_combo):\n",
    "        combined_solutions = True\n",
    "        break\n",
    "\n",
    "\n",
    "end_time = time.time()\n",
    "elapsed_time = end_time - start_time\n",
    "print(f\"Elapsed time: {elapsed_time:.5f} seconds\")\n",
    "print(f\"Satisfiable: {combined_solutions}\")"
   ]
  },
  {
   "cell_type": "code",
   "execution_count": 35,
   "id": "cc2a422e-b34c-4711-8dcd-c6d4f55278ae",
   "metadata": {},
   "outputs": [],
   "source": [
    "def solution_finder(*sols):\n",
    "    for sol_combo in product(*sols):\n",
    "        sol = multi_compatible(sol_combo) \n",
    "        if sol != False:\n",
    "            return sol\n",
    "    return False\n",
    "\n",
    "def solution_counter(*sols):\n",
    "    ct = 0\n",
    "    for sol_combo in product(*sols):\n",
    "        sol = multi_compatible(sol_combo) \n",
    "        if sol != False:\n",
    "            ct += 1\n",
    "    return ct\n"
   ]
  },
  {
   "cell_type": "code",
   "execution_count": 36,
   "id": "cb40c885-5e6f-4d87-8661-26d47be8ecc2",
   "metadata": {},
   "outputs": [
    {
     "name": "stdout",
     "output_type": "stream",
     "text": [
      "{1, 6, 8, 9, -7, -5, -4, -3, -2}\n",
      "33\n"
     ]
    }
   ],
   "source": [
    "print(solution_finder(*sols_per_chunk))\n",
    "print(solution_counter(*sols_per_chunk))\n",
    "print(sols_per_chunk)"
   ]
  },
  {
   "cell_type": "code",
   "execution_count": 65,
   "id": "42f2ded8-eec0-4957-a3ce-06f506531cf3",
   "metadata": {},
   "outputs": [],
   "source": [
    "# creates smaller sublists which we can parallelize\n",
    "\n",
    "def solution_sublists_counter(*sols, split):\n",
    "    sol_ct = 0\n",
    "    big_sublist = [None] * len(sols)\n",
    "    for i, sol_list in enumerate(sols): # split all of the solution lists into smaller solution lists\n",
    "        big_sublist[i] = split_into_chunks(sol_list, split)\n",
    "    for combo in product(*big_sublist):\n",
    "        sol_ct += solution_counter(*combo)\n",
    "    return sol_ct\n",
    "\n",
    "\n",
    "def solution_sublists_generator(*sols, split):\n",
    "    combos = []\n",
    "    big_sublist = [None] * len(sols)\n",
    "    for i, sol_list in enumerate(sols): # split all of the solution lists into smaller solution lists\n",
    "        big_sublist[i] = split_into_chunks(sol_list, split)\n",
    "    for combo in product(*big_sublist):\n",
    "        if any(not x for x in combo):\n",
    "            continue\n",
    "        combos.append(list(combo))\n",
    "    return combos\n"
   ]
  },
  {
   "cell_type": "code",
   "execution_count": 57,
   "id": "433e6283-2459-4be2-b680-67bb720d7d29",
   "metadata": {},
   "outputs": [
    {
     "name": "stdout",
     "output_type": "stream",
     "text": [
      "33\n"
     ]
    }
   ],
   "source": [
    "print(solution_sublists_counter(*sols_per_chunk, split=4))\n",
    "# YESSSSSS it works"
   ]
  },
  {
   "cell_type": "code",
   "execution_count": 75,
   "id": "e4c12d45-9492-4f77-98ab-e72587766298",
   "metadata": {},
   "outputs": [
    {
     "name": "stdout",
     "output_type": "stream",
     "text": [
      "33\n"
     ]
    }
   ],
   "source": [
    "combos = solution_sublists_generator(*sols_per_chunk, split=3)\n",
    "ct = 0\n",
    "\n",
    "for combo in combos:\n",
    "    ct += solution_counter(*combo)\n",
    "print(ct)"
   ]
  },
  {
   "cell_type": "markdown",
   "id": "77ec4767-c0eb-438e-b93e-84070770da16",
   "metadata": {},
   "source": [
    "Now just need to use python multiprocessing to run each combo in parallel... could also send some, and if they all return nothing, send more, to guarantee that the code will break as soon as possible"
   ]
  }
 ],
 "metadata": {
  "kernelspec": {
   "display_name": "Python 3 (ipykernel)",
   "language": "python",
   "name": "python3"
  },
  "language_info": {
   "codemirror_mode": {
    "name": "ipython",
    "version": 3
   },
   "file_extension": ".py",
   "mimetype": "text/x-python",
   "name": "python",
   "nbconvert_exporter": "python",
   "pygments_lexer": "ipython3",
   "version": "3.10.18"
  }
 },
 "nbformat": 4,
 "nbformat_minor": 5
}
