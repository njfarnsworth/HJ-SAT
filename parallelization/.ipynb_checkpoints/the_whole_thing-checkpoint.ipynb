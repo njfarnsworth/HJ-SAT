{
 "cells": [
  {
   "cell_type": "code",
   "execution_count": 28,
   "id": "f00a092a-9421-4fcc-8595-e934551f9bb6",
   "metadata": {},
   "outputs": [],
   "source": [
    "from itertools import product\n",
    "from sympy import symbols\n",
    "import numpy as np\n",
    "import time \n",
    "from pysat.solvers import Solver\n",
    "import random"
   ]
  },
  {
   "cell_type": "code",
   "execution_count": 29,
   "id": "55870364-7312-4a2e-9f38-1d1f82134bb1",
   "metadata": {},
   "outputs": [],
   "source": [
    "# FUNCTIONS\n",
    "def combinatorial_line(word, alphabet):\n",
    "    lines = []\n",
    "    for a in alphabet:\n",
    "        new_word = list(a if val == x else val for val in word)  # tuple instead of list\n",
    "        lines.append(new_word)\n",
    "    return lines\n",
    "\n",
    "def create_var_map(tuples):\n",
    "    \"\"\"\n",
    "    Input: list of tuples (each tuple can have arbitrary length)\n",
    "    Output: dictionary mapping each tuple -> unique integer literal\n",
    "    \"\"\"\n",
    "    return {t: i+1 for i, t in enumerate(tuples)}\n",
    "\n",
    "def tuple_to_litmap(cl, map, lit_map):\n",
    "    \"\"\"\n",
    "    Map a tuple -> var_map ID -> lit_map value\n",
    "    \"\"\"\n",
    "    literals = [map[tuple(c)] for c in cl]\n",
    "    literals = [lit_map[l] for l in literals]\n",
    "    return literals\n",
    "\n",
    "\n",
    "def split_into_chunks(lst, num_chunks):\n",
    "    n = len(lst)\n",
    "    chunk_sizes = [(n + i) // num_chunks for i in range(num_chunks)]\n",
    "    chunks = []\n",
    "    start = 0\n",
    "    for size in chunk_sizes:\n",
    "        chunks.append(lst[start:start + size])\n",
    "        start += size\n",
    "    return chunks\n",
    "\n",
    "def compatible(set1, set2):\n",
    "    # check if any element in set1 has its negation in set2\n",
    "    return not any(-x in set2 for x in set1)\n",
    "\n",
    "def split_into_random_chunks(lst, num_chunks):\n",
    "    # Shuffle the list first\n",
    "    shuffled = lst[:]\n",
    "    random.shuffle(shuffled)\n",
    "    \n",
    "    n = len(shuffled)\n",
    "    chunk_sizes = [(n + i) // num_chunks for i in range(num_chunks)]\n",
    "    \n",
    "    chunks = []\n",
    "    start = 0\n",
    "    for size in chunk_sizes:\n",
    "        chunks.append(shuffled[start:start + size])\n",
    "        start += size\n",
    "    return chunks"
   ]
  },
  {
   "cell_type": "code",
   "execution_count": 30,
   "id": "cd1512a7-add4-427d-b15c-8fb932225808",
   "metadata": {},
   "outputs": [],
   "source": [
    "# SETTING VARIABLES \n",
    "x = symbols('x')\n",
    "m = 3 # m is the potential Hales-Jewett number \n",
    "n = 4 # n is the length of the alphabet\n",
    "c = 2 # don't actually use this, just a reminder that we set c = 2\n",
    "# so, we're looking at HJ(n,2)\n",
    "ch_num = 15"
   ]
  },
  {
   "cell_type": "code",
   "execution_count": 31,
   "id": "5679e21b-0e4f-4535-a30d-c86231b9c42a",
   "metadata": {},
   "outputs": [
    {
     "name": "stdout",
     "output_type": "stream",
     "text": [
      "Generating combinatorial lines and boolean literals for 3 = HJ(4,2)\n"
     ]
    }
   ],
   "source": [
    "print(f\"Generating combinatorial lines and boolean literals for {m} = HJ({n},2)\")\n",
    "\n",
    "alphabet = list(range(1, n+1))\n",
    "configs = []\n",
    "variable_words = []\n",
    "cells = list(product(alphabet, repeat=m))\n",
    "\n",
    "for mask in product([0, 1], repeat=m):\n",
    "    if sum(mask) == 0:  # skip all-blank\n",
    "        continue\n",
    "    config = [x if bit else 0 for bit in mask]\n",
    "    configs.append(config)\n",
    "\n",
    "for c in configs:\n",
    "    zero_positions = [i for i, val in enumerate(c) if val == 0]\n",
    "    k = len(zero_positions)\n",
    "        \n",
    "    for fill in product(alphabet, repeat=k):\n",
    "        word = list(c)  \n",
    "        for pos, val in zip(zero_positions, fill):\n",
    "            word[pos] = val\n",
    "        variable_words.append(word)  \n",
    "\n",
    "combinatorial_lines = [] # create the combinatorial lines\n",
    "for vw in variable_words:\n",
    "    combinatorial_lines.append(combinatorial_line(vw, alphabet))"
   ]
  },
  {
   "cell_type": "code",
   "execution_count": 32,
   "id": "0442850d-828f-46c4-8fdd-a032b1d88cb7",
   "metadata": {},
   "outputs": [],
   "source": [
    "# MAPPING FROM LINES TO BOOLEANS\n",
    "map = create_var_map(cells) # define the map from line to boolean\n",
    "\n",
    "for cl in combinatorial_lines: # for each combinatorial line, we are going to generate 2 clauses\n",
    "    literals = [map[tuple(c)] for c in cl]"
   ]
  },
  {
   "cell_type": "code",
   "execution_count": 37,
   "id": "131a47af-e79b-4c16-acde-9cb718652301",
   "metadata": {},
   "outputs": [
    {
     "name": "stdout",
     "output_type": "stream",
     "text": [
      "Chunk 0 has 4 lines\n",
      "Chunk 1 has 4 lines\n",
      "Chunk 2 has 4 lines\n",
      "Chunk 3 has 4 lines\n",
      "Chunk 4 has 4 lines\n",
      "Chunk 5 has 4 lines\n",
      "Chunk 6 has 4 lines\n",
      "Chunk 7 has 4 lines\n",
      "Chunk 8 has 4 lines\n",
      "Chunk 9 has 4 lines\n",
      "Chunk 10 has 4 lines\n",
      "Chunk 11 has 4 lines\n",
      "Chunk 12 has 4 lines\n",
      "Chunk 13 has 4 lines\n",
      "Chunk 14 has 5 lines\n"
     ]
    }
   ],
   "source": [
    "chunk_list = []\n",
    "\n",
    "#combinatorial_chunks = split_into_chunks(combinatorial_lines, ch_num)\n",
    "combinatorial_chunks = split_into_random_chunks(combinatorial_lines, ch_num)\n",
    "\n",
    "for i, chunk in enumerate(combinatorial_chunks):\n",
    "    chunk_list.append(chunk)          # store in a list for iteration\n",
    "    print(f\"Chunk {i} has {len(chunk)} lines\")"
   ]
  },
  {
   "cell_type": "code",
   "execution_count": 38,
   "id": "2ccb9559-d28b-40ff-87fe-ffc5a18c7d03",
   "metadata": {},
   "outputs": [],
   "source": [
    "\n",
    "\n",
    "def solve_chunk(chunk):\n",
    "    \"\"\"\n",
    "    Solve a chunk using a SAT solver with optional symmetry blocking on x1.\n",
    "    \n",
    "    Args:\n",
    "        chunk (list of lists/tuples): The chunk of constraints to solve.\n",
    "        map (dict): Mapping from tuple elements to integer literals.\n",
    "        tuple_to_litmap (func): Function to convert tuples to literal mapping.\n",
    "        symmetry_block (bool, optional): Whether to symmetry block x1 if present.\n",
    "        \n",
    "    Returns:\n",
    "        solutions (list of sets): List of solutions in terms of original tuples.\n",
    "        solution_count (int): Number of solutions found.\n",
    "        lit_map (dict): Mapping from original literals to solver literals.\n",
    "    \"\"\"\n",
    "    solver = Solver(name='glucose4')\n",
    "    literals_in_chunk = set()\n",
    "    x1_in_lits = False\n",
    "\n",
    "    # Collect literals\n",
    "    for cl in chunk:\n",
    "        literals = [map[tuple(c)] for c in cl]\n",
    "        literals_in_chunk.update(literals)\n",
    "\n",
    "    # Generate literal maps\n",
    "    lit_map = {orig: i+1 for i, orig in enumerate(literals_in_chunk)}\n",
    "    rev_map = {v: k for k, v in lit_map.items()}\n",
    "\n",
    "    if 1 in literals_in_chunk:\n",
    "        x1_in_lits = True\n",
    "        #print(\"Performing symmetry blocking on x_1\")\n",
    "\n",
    "    #print(\"Literals before mapping:\", literals_in_chunk)\n",
    "    #print(\"Literals after mapping:\", lit_map)\n",
    "\n",
    "    # Add clauses\n",
    "    for cl in chunk:\n",
    "        literals = tuple_to_litmap(cl, map, lit_map)\n",
    "        solver.add_clause(literals)             # all-blue check\n",
    "        solver.add_clause([-lit for lit in literals])  # all-red check\n",
    "\n",
    "    if x1_in_lits:\n",
    "        solver.add_clause([1])\n",
    "\n",
    "    # Enumerate solutions\n",
    "    solutions = []\n",
    "    for model in solver.enum_models():\n",
    "        mapped_model = set(\n",
    "            rev_map[abs(lit)] if lit > 0 else -rev_map[abs(lit)]\n",
    "            for lit in model if abs(lit) in rev_map\n",
    "        )\n",
    "        solutions.append(mapped_model)\n",
    "\n",
    "    solution_count = len(solutions)\n",
    "    print(f\"Found {solution_count} solutions in this chunk.\")\n",
    "    return solutions, solution_count, lit_map\n",
    "\n"
   ]
  },
  {
   "cell_type": "code",
   "execution_count": 39,
   "id": "3686bd03-0029-4846-a0f1-5650fc925a79",
   "metadata": {},
   "outputs": [
    {
     "name": "stdout",
     "output_type": "stream",
     "text": [
      "Found 9604 solutions in this chunk.\n",
      "Found 19208 solutions in this chunk.\n",
      "Found 38416 solutions in this chunk.\n",
      "Found 19208 solutions in this chunk.\n",
      "Found 9604 solutions in this chunk.\n",
      "Found 19208 solutions in this chunk.\n",
      "Found 4802 solutions in this chunk.\n",
      "Found 19208 solutions in this chunk.\n",
      "Found 19208 solutions in this chunk.\n",
      "Found 4802 solutions in this chunk.\n",
      "Found 38416 solutions in this chunk.\n",
      "Found 19208 solutions in this chunk.\n",
      "Found 4802 solutions in this chunk.\n",
      "Found 38416 solutions in this chunk.\n",
      "Found 67228 solutions in this chunk.\n",
      "Elapsed time: 49.01307 seconds\n"
     ]
    }
   ],
   "source": [
    "start_time = time.time()\n",
    "\n",
    "sols_per_chunk = []\n",
    "sol_ct_per_chunk = []\n",
    "lit_map_per_chunk = []\n",
    "\n",
    "for chunk in chunk_list:\n",
    "    solutions, count, lit_map = solve_chunk(chunk)\n",
    "    sols_per_chunk.append(solutions)\n",
    "    sol_ct_per_chunk.append(count)\n",
    "    lit_map_per_chunk.append(lit_map)\n",
    "\n",
    "end_time = time.time()\n",
    "elapsed_time = end_time - start_time\n",
    "print(f\"Elapsed time: {elapsed_time:.5f} seconds\")\n"
   ]
  },
  {
   "cell_type": "code",
   "execution_count": 11,
   "id": "16f07454-1184-46cb-b8ec-b4ac038684b5",
   "metadata": {},
   "outputs": [
    {
     "name": "stdout",
     "output_type": "stream",
     "text": [
      "Elapsed time: 4.87247 seconds\n",
      "There are 9738 valid solutions using all subsets of solutions\n"
     ]
    }
   ],
   "source": [
    "\n",
    "start_time = time.time()\n",
    "\n",
    "combined_solutions = set(tuple(sorted(sol, key=abs)) for sol in sols_per_chunk[0])\n",
    "for chunk_solutions in sols_per_chunk[1:]:\n",
    "    next_combined = set()\n",
    "    for sol_a in combined_solutions:\n",
    "        for sol_b in chunk_solutions:\n",
    "            if compatible(sol_a, sol_b):\n",
    "                combined = tuple(sorted(set(sol_a) | set(sol_b), key=abs))\n",
    "                next_combined.add(combined)\n",
    "    combined_solutions = next_combined\n",
    "\n",
    "end_time = time.time()\n",
    "elapsed_time = end_time - start_time\n",
    "print(f\"Elapsed time: {elapsed_time:.5f} seconds\")\n",
    "\n",
    "print(f\"There are {len(combined_solutions)} valid solutions using all subsets of solutions\")"
   ]
  },
  {
   "cell_type": "code",
   "execution_count": null,
   "id": "cc2a422e-b34c-4711-8dcd-c6d4f55278ae",
   "metadata": {},
   "outputs": [],
   "source": []
  },
  {
   "cell_type": "code",
   "execution_count": null,
   "id": "cb40c885-5e6f-4d87-8661-26d47be8ecc2",
   "metadata": {},
   "outputs": [],
   "source": []
  }
 ],
 "metadata": {
  "kernelspec": {
   "display_name": "Python 3 (ipykernel)",
   "language": "python",
   "name": "python3"
  },
  "language_info": {
   "codemirror_mode": {
    "name": "ipython",
    "version": 3
   },
   "file_extension": ".py",
   "mimetype": "text/x-python",
   "name": "python",
   "nbconvert_exporter": "python",
   "pygments_lexer": "ipython3",
   "version": "3.10.18"
  }
 },
 "nbformat": 4,
 "nbformat_minor": 5
}
